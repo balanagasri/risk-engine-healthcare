{
 "cells": [
  {
   "cell_type": "code",
   "execution_count": null,
   "metadata": {},
   "outputs": [],
   "source": [
    "from riskagent_pipeline import RiskAgentPipeline\n",
    "\n",
    "# initialize pipeline\n",
    "# pipeline = RiskAgentPipeline(\n",
    "#     model_type=\"azure\",\n",
    "#     api_key=\"YOUR_AZURE_API_KEY\",\n",
    "#     api_endpoint=\"https://YOUR_AZURE_ENDPOINT.openai.azure.com/\",\n",
    "#     deployment=\"gpt-4o\",\n",
    "#     verbose=False\n",
    "# )\n",
    "\n",
    "pipeline = RiskAgentPipeline(\n",
    "    model_type=\"openai\",\n",
    "    api_key=\"YOUR_OPENAI_API_KEY\",\n",
    "    deployment=\"gpt-4o\"\n",
    ")\n",
    "\n",
    "# pipeline = RiskAgentPipeline(\n",
    "#     model_type=\"llama3\",\n",
    "#     model_path=\"jinge13288/RiskAgent-8B\", \n",
    "#     device_map=\"cuda:0\",\n",
    "#     verbose=True\n",
    "# )\n",
    "\n",
    "test_case = \"\"\"\n",
    "A 54-year-old female patient with a history of hypertension and diabetes presents to the clinic complaining of palpitations and occasional light-headedness. Her medical record shows a previous stroke but no history of congestive heart failure or vascular diseases like myocardial infarction or peripheral artery disease.\n",
    "\"\"\"\n",
    "\n",
    "results = pipeline.process_case(test_case)\n",
    "\n",
    "\n",
    "print(\"\\n=== Final Assessment ===\")\n",
    "print(results['final_output'])\n",
    "\n"
   ]
  }
 ],
 "metadata": {
  "kernelspec": {
   "display_name": "base",
   "language": "python",
   "name": "python3"
  },
  "language_info": {
   "codemirror_mode": {
    "name": "ipython",
    "version": 3
   },
   "file_extension": ".py",
   "mimetype": "text/x-python",
   "name": "python",
   "nbconvert_exporter": "python",
   "pygments_lexer": "ipython3",
   "version": "3.9.12"
  }
 },
 "nbformat": 4,
 "nbformat_minor": 2
}
